{
 "cells": [
  {
   "cell_type": "markdown",
   "metadata": {},
   "source": [
    "## Pranav Bhagat"
   ]
  },
  {
   "cell_type": "markdown",
   "metadata": {},
   "source": [
    "### Project Name : Web scraping to anaylse the English Premier League table."
   ]
  },
  {
   "cell_type": "markdown",
   "metadata": {},
   "source": [
    "### Objective"
   ]
  },
  {
   "cell_type": "markdown",
   "metadata": {},
   "source": [
    "The main objective of this assignment is to find out insights about a website using web scraping methods. For this purpose, I have selected the English Premier League website. This website contains a table of the Premier League standings for this year. It has features such as Name of the club, last 5 match results, wins, draws and defeats.\n",
    "\n",
    "For scraping this website, I have used BeautifulSoup library. This library is useful for scraping details off webpages and to display them. I have selected a website which has a table in it so it would be easier to plot data.\n",
    "\n",
    "Using my analysis, I will aim to find out which clubs may finish at the top half of the table, which club can win the competion based on points and recent results and try to find out some more insights. I'll also try to find out the top 4 teams which have a chance of qualifying for the champions league. I would also be looking at the bottom 3 clubs in the league as well as their recent results and will they be able to beat relegation based on recent results. "
   ]
  },
  {
   "cell_type": "code",
   "execution_count": 1,
   "metadata": {},
   "outputs": [],
   "source": [
    "import pandas as pd\n",
    "import matplotlib\n",
    "import matplotlib.pyplot as plt\n",
    "import numpy as np\n",
    "import requests\n",
    "from bs4 import BeautifulSoup"
   ]
  },
  {
   "cell_type": "markdown",
   "metadata": {},
   "source": [
    "Here I have imported the libraries necessary for the analysis."
   ]
  },
  {
   "cell_type": "code",
   "execution_count": 2,
   "metadata": {},
   "outputs": [],
   "source": [
    "pdf1 = pd.read_html(\"https://www.premierleague.com/tables\")"
   ]
  },
  {
   "cell_type": "code",
   "execution_count": 3,
   "metadata": {},
   "outputs": [],
   "source": [
    "PLT = \"https://www.premierleague.com/tables\""
   ]
  },
  {
   "cell_type": "markdown",
   "metadata": {},
   "source": [
    "Here I have imported the webpages using the necessary urls."
   ]
  },
  {
   "cell_type": "code",
   "execution_count": 4,
   "metadata": {},
   "outputs": [],
   "source": [
    "WebData = requests.get(PLT)"
   ]
  },
  {
   "cell_type": "code",
   "execution_count": 5,
   "metadata": {},
   "outputs": [
    {
     "data": {
      "text/plain": [
       "requests.models.Response"
      ]
     },
     "execution_count": 5,
     "metadata": {},
     "output_type": "execute_result"
    }
   ],
   "source": [
    "type(WebData)"
   ]
  },
  {
   "cell_type": "code",
   "execution_count": 6,
   "metadata": {},
   "outputs": [],
   "source": [
    "def status_check(r):\n",
    "    if r.status_code==200:\n",
    "        print(\"Success!\")\n",
    "        return 1\n",
    "    else:\n",
    "        print(\"Failed!\")\n",
    "        return -1"
   ]
  },
  {
   "cell_type": "code",
   "execution_count": 7,
   "metadata": {},
   "outputs": [
    {
     "name": "stdout",
     "output_type": "stream",
     "text": [
      "Success!\n"
     ]
    },
    {
     "data": {
      "text/plain": [
       "1"
      ]
     },
     "execution_count": 7,
     "metadata": {},
     "output_type": "execute_result"
    }
   ],
   "source": [
    "status_check(WebData)"
   ]
  },
  {
   "cell_type": "code",
   "execution_count": 8,
   "metadata": {},
   "outputs": [],
   "source": [
    "def encoding_check(r):\n",
    "    return (r.encoding)"
   ]
  },
  {
   "cell_type": "code",
   "execution_count": 9,
   "metadata": {},
   "outputs": [
    {
     "data": {
      "text/plain": [
       "'utf-8'"
      ]
     },
     "execution_count": 9,
     "metadata": {},
     "output_type": "execute_result"
    }
   ],
   "source": [
    "encoding_check(WebData)"
   ]
  },
  {
   "cell_type": "markdown",
   "metadata": {},
   "source": [
    "Here we check the encoding of the webpage"
   ]
  },
  {
   "cell_type": "code",
   "execution_count": 10,
   "metadata": {},
   "outputs": [],
   "source": [
    "def decode_content(r,encoding):\n",
    "    return (r.content.decode(encoding))"
   ]
  },
  {
   "cell_type": "code",
   "execution_count": 11,
   "metadata": {},
   "outputs": [],
   "source": [
    "DataonPage = decode_content(WebData,encoding_check(WebData))"
   ]
  },
  {
   "cell_type": "code",
   "execution_count": 12,
   "metadata": {
    "scrolled": true
   },
   "outputs": [
    {
     "data": {
      "text/plain": [
       "str"
      ]
     },
     "execution_count": 12,
     "metadata": {},
     "output_type": "execute_result"
    }
   ],
   "source": [
    "type(DataonPage)"
   ]
  },
  {
   "cell_type": "markdown",
   "metadata": {},
   "source": [
    "Here I have displayed the type of contents on the webpage"
   ]
  },
  {
   "cell_type": "code",
   "execution_count": 13,
   "metadata": {},
   "outputs": [
    {
     "data": {
      "text/plain": [
       "713604"
      ]
     },
     "execution_count": 13,
     "metadata": {},
     "output_type": "execute_result"
    }
   ],
   "source": [
    "len(DataonPage)"
   ]
  },
  {
   "cell_type": "markdown",
   "metadata": {},
   "source": [
    "Here I have displayed the length of Data on the webpage"
   ]
  },
  {
   "cell_type": "code",
   "execution_count": 14,
   "metadata": {},
   "outputs": [],
   "source": [
    "soup = BeautifulSoup(DataonPage, 'html.parser')"
   ]
  },
  {
   "cell_type": "code",
   "execution_count": 15,
   "metadata": {},
   "outputs": [
    {
     "data": {
      "text/plain": [
       "bs4.BeautifulSoup"
      ]
     },
     "execution_count": 15,
     "metadata": {},
     "output_type": "execute_result"
    }
   ],
   "source": [
    "type(soup)"
   ]
  },
  {
   "cell_type": "code",
   "execution_count": 16,
   "metadata": {},
   "outputs": [],
   "source": [
    "txt_dump=soup.text"
   ]
  },
  {
   "cell_type": "code",
   "execution_count": 17,
   "metadata": {},
   "outputs": [
    {
     "name": "stdout",
     "output_type": "stream",
     "text": [
      "2020\n",
      "BHA\n",
      "\n",
      "1 -1\n",
      "\n",
      "WAT\n",
      "\n",
      "\n",
      "\n",
      "\n",
      "\n",
      "\n",
      "\n",
      "\n",
      "Manchester United\n",
      "\n",
      "\n",
      "\n",
      "Sunday 23 February 2020\n",
      "MUN\n",
      "\n",
      "14:00\n",
      "\n",
      "WAT\n",
      "\n",
      "\n",
      "\n",
      "\n",
      "\n",
      "\n",
      "\n",
      "\n",
      "\n",
      "\n",
      "\n",
      "\n",
      "Watford\n",
      "\n",
      "\n",
      "\n",
      "Recent Result - Saturday 8 February 2020\n",
      "\n",
      "BHA\n",
      "\n",
      "1 -1\n",
      "\n",
      "WAT\n",
      "\n",
      "\n",
      "\n",
      "\n",
      "Next Fixture - Sunday 23 February 2020\n",
      "\n",
      "MUN\n",
      "\n",
      "14:00\n",
      "\n",
      "WAT\n",
      "\n",
      "\n",
      "\n",
      "\n",
      "Visit Watford Club Page\n",
      "\n",
      "\n",
      "\n",
      "\n",
      "Performance Chart\n",
      "Compare against another team\n",
      "\n",
      "\n",
      "\n",
      "\n",
      "\n",
      "\n",
      "\n",
      "\n",
      "\n",
      "\n",
      "20\n",
      "\n",
      "\n",
      "Previous Position\n",
      "                            \n",
      "                                20\n",
      "                            \n",
      "\n",
      "\n",
      "\n",
      "\n",
      "\n",
      "Norwich CityNOR\n",
      "\n",
      "25\n",
      "4\n",
      "6\n",
      "15\n",
      "24\n",
      "47\n",
      " \n",
      "        -23\n",
      "\n",
      " \n",
      "18\n",
      "\n",
      "\n",
      "D\n",
      "\n",
      "\n",
      "\n",
      "Wednesday 1 January 2020\n",
      "NOR\n",
      "\n",
      "1 -1\n",
      "\n",
      "CRY\n",
      "\n",
      "\n",
      "\n",
      "\n",
      "\n",
      "\n",
      "L\n",
      "\n",
      "\n",
      "\n",
      "Saturday 11 January 2020\n",
      "MUN\n",
      "\n",
      "4 -0\n",
      "\n",
      "NOR\n",
      "\n",
      "\n",
      "\n",
      "\n",
      "\n",
      "\n",
      "W\n",
      "\n",
      "\n",
      "\n",
      "Saturday 18 January 2020\n",
      "NOR\n",
      "\n",
      "1 -0\n",
      "\n",
      "BOU\n",
      "\n",
      "\n",
      "\n",
      "\n",
      "\n",
      "\n",
      "L\n",
      "\n",
      "\n",
      "\n",
      "Wednesday 22 January 2020\n",
      "TOT\n",
      "\n",
      "2 -1\n",
      "\n",
      "NOR\n",
      "\n",
      "\n",
      "\n",
      "\n",
      "\n",
      "\n",
      "D\n",
      "\n",
      "\n",
      "\n",
      "Saturday 1 February 2020\n",
      "NEW\n",
      "\n",
      "0 -0\n",
      "\n",
      "NOR\n",
      "\n",
      "\n",
      "\n",
      "\n",
      "\n",
      "\n",
      "\n",
      "\n",
      "Liverpool\n",
      "\n",
      "\n",
      "\n",
      "Saturday 15 February 2020\n",
      "NOR\n",
      "\n",
      "17:30\n",
      "\n",
      "LIV\n",
      "\n",
      "\n",
      "\n",
      "\n",
      "\n",
      "\n",
      "\n",
      "\n",
      "\n",
      "\n",
      "\n",
      "\n",
      "Norwich City\n",
      "\n",
      "\n",
      "\n",
      "Recent Result - Saturday 1 February 2020\n",
      "\n",
      "NEW\n",
      "\n",
      "0 -0\n",
      "\n",
      "NOR\n",
      "\n",
      "\n",
      "\n",
      "\n",
      "Next Fixture - Saturday 15 February 2020\n",
      "\n",
      "NOR\n",
      "\n",
      "17:30\n",
      "\n",
      "LIV\n",
      "\n",
      "\n",
      "\n",
      "\n",
      "Visit Norwich City Club Page\n",
      "\n",
      "\n",
      "\n",
      "\n",
      "Performance Chart\n",
      "Compare against another team\n",
      "\n",
      "\n",
      "\n",
      "\n",
      "\n",
      "\n",
      "\n",
      "\n",
      "\n",
      "\n",
      "\n",
      "\n",
      "\n",
      "\n",
      "\n",
      "\n",
      "\n",
      "\n",
      "\n",
      "\n",
      "\n",
      "\n",
      "\n",
      "\n",
      "\n",
      "\n",
      "\n",
      "\n",
      "\n",
      "\n",
      "This table charts the Premier League teams\n",
      "\n",
      "\n",
      "\n",
      "Position\n",
      "Pos\n",
      "\n",
      "Club\n",
      "\n",
      "Played\n",
      "Pl\n",
      "\n",
      "\n",
      "Won\n",
      "W\n",
      "\n",
      "\n",
      "Drawn\n",
      "D\n",
      "\n",
      "\n",
      "Lost\n",
      "L\n",
      "\n",
      "GF\n",
      "GA\n",
      "GD\n",
      "\n",
      "Points\n",
      "Pts\n",
      "\n",
      "Form\n",
      "Next\n",
      "\n",
      "\n",
      "\n",
      "\n",
      "\n",
      "1\n",
      "\n",
      "\n",
      "Previous Position\n",
      "                            \n",
      "                                2\n",
      "                            \n",
      "\n",
      "\n",
      "\n",
      "\n",
      "\n",
      "Leicester CityLEI\n",
      "\n",
      "17\n",
      "9\n",
      "5\n",
      "3\n",
      "33\n",
      "20\n",
      " \n",
      "        +13\n",
      "\n",
      " \n",
      "32\n",
      "\n",
      "\n",
      "L\n",
      "\n",
      "\n",
      "\n",
      "Friday 13 December 2019\n",
      "BLB\n",
      "\n",
      "3 -1\n",
      "\n",
      "LEI\n",
      "\n",
      "\n",
      "\n",
      "\n",
      "\n",
      "\n",
      "W\n",
      "\n",
      "\n",
      "\n",
      "Friday 3 January 2020\n",
      "LEI\n",
      "\n",
      "5 -1\n",
      "\n",
      "WOL\n",
      "\n",
      "\n",
      "\n",
      "\n",
      "\n",
      "\n",
      "W\n",
      "\n",
      "\n",
      "\n",
      "Monday 13 January 2020\n",
      "BHA\n",
      "\n",
      "0 -1\n",
      "\n",
      "LEI\n",
      "\n",
      "\n",
      "\n",
      "\n",
      "\n",
      "\n",
      "D\n",
      "\n",
      "\n",
      "\n",
      "Friday 31 January 2020\n",
      "CHE\n",
      "\n",
      "2 -2\n",
      "\n",
      "LEI\n",
      "\n",
      "\n",
      "\n",
      "\n",
      "\n",
      "\n",
      "W\n",
      "\n",
      "\n",
      "\n",
      "Friday 14 February 2020\n",
      "LEI\n",
      "\n",
      "3 -2\n",
      "\n",
      "TOT\n",
      "\n",
      "\n",
      "\n",
      "\n",
      "\n",
      "\n",
      "\n",
      "\n",
      "Southampton\n",
      "\n",
      "\n",
      "\n",
      "Monday 02 March 2020\n",
      "SOU\n",
      "\n",
      "19:00\n",
      "\n",
      "LEI\n",
      "\n",
      "\n",
      "\n",
      "\n",
      "\n",
      "\n",
      "\n",
      "\n",
      "\n",
      "\n",
      "\n",
      "\n",
      "Leicester City\n",
      "\n",
      "\n",
      "\n",
      "Recent Result - Friday 14 February 2020\n",
      "\n",
      "LEI\n",
      "\n",
      "3 -2\n",
      "\n",
      "TOT\n",
      "\n",
      "\n",
      "\n",
      "\n",
      "Next Fixture - Monday 2 March 2020\n",
      "\n",
      "SOU\n",
      "\n",
      "19:00\n",
      "\n",
      "LEI\n",
      "\n",
      "\n",
      "\n",
      "\n",
      "Visit Leicester City Club Page\n",
      "\n",
      "\n",
      "\n",
      "\n",
      "Performance Chart\n",
      "Compare against another team\n",
      "\n",
      "\n",
      "\n",
      "\n",
      "\n",
      "\n",
      "\n",
      "2\n",
      "\n",
      "\n",
      "Previous Position\n",
      "                            \n",
      "                                1\n",
      "                            \n",
      "\n",
      "\n",
      "\n",
      "\n",
      "\n",
      "ChelseaCHE\n",
      "\n",
      "16\n",
      "8\n",
      "8\n",
      "0\n",
      "31\n",
      "19\n",
      " \n",
      "        +12\n",
      "\n",
      " \n",
      "32\n",
      "\n",
      "\n",
      "D\n",
      "\n",
      "\n",
      "\n",
      "Saturday 14 December 2019\n",
      "LIV\n",
      "\n",
      "1 -1\n",
      "\n",
      "CHE\n",
      "\n",
      "\n",
      "\n",
      "\n",
      "\n",
      "\n",
      "W\n",
      "\n",
      "\n",
      "\n",
      "Monday 6 January 2020\n",
      "TOT\n",
      "\n",
      "0 -1\n",
      "\n",
      "CHE\n",
      "\n",
      "\n",
      "\n",
      "\n",
      "\n",
      "\n",
      "W\n",
      "\n",
      "\n",
      "\n",
      "Saturday 11 January 2020\n",
      "CHE\n",
      "\n",
      "2 -1\n",
      "\n",
      "MCI\n",
      "\n",
      "\n",
      "\n",
      "\n",
      "\n",
      "\n",
      "D\n",
      "\n",
      "\n",
      "\n",
      "Friday 24 January 2020\n",
      "EVE\n",
      "\n",
      "2 -2\n",
      "\n",
      "CHE\n",
      "\n",
      "\n",
      "\n",
      "\n",
      "\n",
      "\n",
      "D\n",
      "\n",
      "\n",
      "\n",
      "Friday 31 January 2020\n",
      "CHE\n",
      "\n",
      "2 -2\n",
      "\n",
      "LEI\n",
      "\n",
      "\n",
      "\n",
      "\n",
      "\n",
      "\n",
      "\n",
      "\n",
      "Arsenal\n",
      "\n",
      "\n",
      "\n",
      "Monday 17 February 2020\n",
      "ARS\n",
      "\n",
      "19:00\n",
      "\n",
      "CHE\n",
      "\n",
      "\n",
      "\n",
      "\n",
      "\n",
      "\n",
      "\n",
      "\n",
      "\n",
      "\n",
      "\n",
      "\n",
      "Chelsea\n",
      "\n",
      "\n",
      "\n",
      "Recent Result - Friday 31 January 2020\n",
      "\n",
      "CHE\n",
      "\n",
      "2 -2\n",
      "\n",
      "LEI\n",
      "\n",
      "\n",
      "\n",
      "\n",
      "Next Fixture - Monday 17 February 2020\n",
      "\n",
      "ARS\n",
      "\n",
      "19:00\n",
      "\n",
      "CHE\n",
      "\n",
      "\n",
      "\n",
      "\n",
      "Visit Chelsea Club Page\n",
      "\n",
      "\n",
      "\n",
      "\n",
      "Performance Chart\n",
      "Compare against another team\n",
      "\n",
      "\n",
      "\n",
      "\n",
      "\n",
      "\n",
      "\n",
      "3\n",
      "\n",
      "\n",
      "Previous Position\n",
      "                            \n",
      "                                4\n",
      "                            \n",
      "\n",
      "\n",
      "\n",
      "\n",
      "\n",
      "Brighton and Hove AlbionBHA\n",
      "\n",
      "17\n",
      "9\n",
      "1\n",
      "7\n",
      "32\n",
      "25\n",
      " \n",
      "        +7\n",
      "\n",
      " \n",
      "28\n",
      "\n",
      "\n",
      "W\n",
      "\n",
      "\n",
      "\n",
      "Friday 13 December 2019\n",
      "BHA\n",
      "\n",
      "1 -0\n",
      "\n",
      "ARS\n",
      "\n",
      "\n",
      "\n",
      "\n",
      "\n",
      "\n",
      "W\n",
      "\n",
      "\n",
      "\n",
      "Monday 6 January 2020\n",
      "BLB\n",
      "\n",
      "1 -2\n",
      "\n",
      "BHA\n",
      "\n",
      "\n",
      "\n",
      "\n",
      "\n",
      "\n",
      "L\n",
      "\n",
      "\n",
      "\n",
      "Monday 13 January 2020\n",
      "BHA\n",
      "\n",
      "0 -1\n",
      "\n",
      "LEI\n",
      "\n",
      "\n",
      "\n",
      "\n",
      "\n",
      "\n",
      "W\n",
      "\n",
      "\n",
      "\n",
      "Monday 3 February 2020\n",
      "TOT\n",
      "\n",
      "1 -2\n",
      "\n",
      "BHA\n",
      "\n",
      "\n",
      "\n",
      "\n",
      "\n",
      "\n",
      "W\n",
      "\n",
      "\n",
      "\n",
      "Friday 14 February 2020\n",
      "BHA\n",
      "\n",
      "2 -1\n",
      "\n",
      "MCI\n",
      "\n",
      "\n",
      "\n",
      "\n",
      "\n",
      "\n",
      "\n",
      "\n",
      "Derby County\n",
      "\n",
      "\n",
      "\n",
      "Friday 28 February 2020\n",
      "DER\n",
      "\n",
      "14:00\n",
      "\n",
      "BHA\n",
      "\n",
      "\n",
      "\n",
      "\n",
      "\n",
      "\n",
      "\n",
      "\n",
      "\n",
      "\n",
      "\n",
      "\n",
      "Brighton and Hove Albion\n",
      "\n",
      "\n",
      "\n",
      "Recent Result - Friday 14 February 2020\n",
      "\n",
      "BHA\n",
      "\n",
      "2 -1\n",
      "\n",
      "MCI\n",
      "\n",
      "\n",
      "\n",
      "\n",
      "Next Fixture - Friday 28 February 2020\n",
      "\n",
      "DER\n",
      "\n",
      "14:00\n",
      "\n",
      "BHA\n",
      "\n",
      "\n",
      "\n",
      "\n",
      "Visit Brighton and Hove Albion Club Page\n",
      "\n",
      "\n",
      "\n",
      "\n",
      "Performance Chart\n",
      "Compare against another team\n",
      "\n",
      "\n",
      "\n",
      "\n",
      "\n",
      "\n",
      "\n",
      "4\n",
      "\n",
      "\n",
      "Previous Position\n",
      "                            \n",
      "                                3\n",
      "                            \n",
      "\n",
      "\n",
      "\n",
      "\n",
      "\n",
      "Derby CountyDER\n",
      "\n",
      "16\n",
      "7\n",
      "6\n",
      "3\n",
      "31\n",
      "26\n",
      " \n",
      "        +5\n",
      "\n",
      " \n",
      "27\n",
      "\n",
      "\n",
      "D\n",
      "\n",
      "\n",
      "\n",
      "Saturday 7 December 2019\n",
      "CHE\n",
      "\n",
      "3 -3\n",
      "\n",
      "DER\n",
      "\n",
      "\n",
      "\n",
      "\n",
      "\n",
      "\n",
      "W\n",
      "\n",
      "\n",
      "\n",
      "Monday 16 December 2019\n",
      "DER\n",
      "\n",
      "4 -2\n",
      "\n",
      "SOU\n",
      "\n",
      "\n",
      "\n",
      "\n",
      "\n",
      "\n",
      "D\n",
      "\n",
      "\n",
      "\n",
      "Friday 3 January 2020\n",
      "ARS\n",
      "\n",
      "2 -2\n",
      "\n",
      "DER\n",
      "\n",
      "\n",
      "\n",
      "\n",
      "\n",
      "\n",
      "D\n",
      "\n",
      "\n",
      "\n",
      "Monday 13 January 2020\n",
      "DER\n",
      "\n",
      "2 -2\n",
      "\n",
      "TOT\n",
      "\n",
      "\n",
      "\n",
      "\n",
      "\n",
      "\n",
      "L\n",
      "\n",
      "\n",
      "\n",
      "Monday 3 February 2020\n",
      "BLB\n",
      "\n",
      "2 -0\n",
      "\n",
      "DER\n",
      "\n",
      "\n",
      "\n",
      "\n",
      "\n",
      "\n",
      "\n",
      "\n",
      "Everton\n",
      "\n",
      "\n",
      "\n",
      "Monday 17 February 2020\n",
      "EVE\n",
      "\n",
      "19:00\n",
      "\n",
      "DER\n",
      "\n",
      "\n",
      "\n",
      "\n",
      "\n",
      "\n",
      "\n",
      "\n",
      "\n",
      "\n",
      "\n",
      "\n",
      "Derby County\n",
      "\n",
      "\n",
      "\n",
      "Recent Result - Monday 3 February 2020\n",
      "\n",
      "BLB\n",
      "\n",
      "2 -0\n",
      "\n",
      "DER\n",
      "\n",
      "\n",
      "\n",
      "\n",
      "Next Fixture - Monday 17 February 2020\n",
      "\n",
      "EVE\n",
      "\n",
      "19:00\n",
      "\n",
      "DER\n",
      "\n",
      "\n",
      "\n",
      "\n",
      "Visit Derby County Cl\n"
     ]
    }
   ],
   "source": [
    "print(txt_dump[20000:24000])"
   ]
  },
  {
   "cell_type": "markdown",
   "metadata": {},
   "source": [
    "Here I have printed some of the data on the Webpage."
   ]
  },
  {
   "cell_type": "markdown",
   "metadata": {},
   "source": [
    "### Data Mining"
   ]
  },
  {
   "cell_type": "code",
   "execution_count": 18,
   "metadata": {
    "scrolled": true
   },
   "outputs": [
    {
     "name": "stderr",
     "output_type": "stream",
     "text": [
      "C:\\Users\\Pranav\\Anaconda3\\lib\\site-packages\\ipykernel_launcher.py:1: FutureWarning: Sorting because non-concatenation axis is not aligned. A future version\n",
      "of pandas will change to not sort by default.\n",
      "\n",
      "To accept the future behavior, pass 'sort=False'.\n",
      "\n",
      "To retain the current behavior and silence the warning, pass 'sort=True'.\n",
      "\n",
      "  \"\"\"Entry point for launching an IPython kernel.\n"
     ]
    }
   ],
   "source": [
    "df = pd.concat(pdf1[0:39])"
   ]
  },
  {
   "cell_type": "code",
   "execution_count": 19,
   "metadata": {},
   "outputs": [
    {
     "data": {
      "text/plain": [
       "Index(['Club', 'Drawn  D', 'Form', 'GA', 'GD', 'GF', 'Lost  L', 'Next',\n",
       "       'Played  Pl', 'Points  Pts', 'Position  Pos', 'Unnamed: 11',\n",
       "       'Unnamed: 12', 'Won  W'],\n",
       "      dtype='object')"
      ]
     },
     "execution_count": 19,
     "metadata": {},
     "output_type": "execute_result"
    }
   ],
   "source": [
    "df.columns"
   ]
  },
  {
   "cell_type": "markdown",
   "metadata": {},
   "source": [
    "Here I have placed the data in the table on the webpage in a pandas dataframe."
   ]
  },
  {
   "cell_type": "code",
   "execution_count": 20,
   "metadata": {},
   "outputs": [],
   "source": [
    "form1 = df['Form']"
   ]
  },
  {
   "cell_type": "code",
   "execution_count": 21,
   "metadata": {},
   "outputs": [],
   "source": [
    "form2 = form1.tolist()"
   ]
  },
  {
   "cell_type": "code",
   "execution_count": 22,
   "metadata": {},
   "outputs": [
    {
     "data": {
      "text/plain": [
       "'Liverpool  Recent Result - Saturday 1 February 2020  LIV  4 -0  SOU  Next Fixture - Saturday 15 February 2020  NOR  17:30  LIV  Visit Liverpool Club Page'"
      ]
     },
     "execution_count": 22,
     "metadata": {},
     "output_type": "execute_result"
    }
   ],
   "source": [
    "form2[1]"
   ]
  },
  {
   "cell_type": "markdown",
   "metadata": {},
   "source": [
    "Here I have printed the recent result of the club which is at the top of the league"
   ]
  },
  {
   "cell_type": "code",
   "execution_count": 23,
   "metadata": {},
   "outputs": [
    {
     "data": {
      "text/plain": [
       "'Norwich City  Recent Result - Saturday 1 February 2020  NEW  0 -0  NOR  Next Fixture - Saturday 15 February 2020  NOR  17:30  LIV  Visit Norwich City Club Page'"
      ]
     },
     "execution_count": 23,
     "metadata": {},
     "output_type": "execute_result"
    }
   ],
   "source": [
    "form2[39]"
   ]
  },
  {
   "cell_type": "code",
   "execution_count": 24,
   "metadata": {},
   "outputs": [
    {
     "data": {
      "text/plain": [
       "'Watford  Recent Result - Saturday 8 February 2020  BHA  1 -1  WAT  Next Fixture - Sunday 23 February 2020  MUN  14:00  WAT  Visit Watford Club Page'"
      ]
     },
     "execution_count": 24,
     "metadata": {},
     "output_type": "execute_result"
    }
   ],
   "source": [
    "form2[37]"
   ]
  },
  {
   "cell_type": "code",
   "execution_count": 25,
   "metadata": {
    "scrolled": true
   },
   "outputs": [
    {
     "data": {
      "text/plain": [
       "'West Ham United  Recent Result - Saturday 1 February 2020  WHU  3 -3  BHA  Next Fixture - Wednesday 19 February 2020  MCI  19:30  WHU  Visit West Ham United Club Page'"
      ]
     },
     "execution_count": 25,
     "metadata": {},
     "output_type": "execute_result"
    }
   ],
   "source": [
    "form2[35]"
   ]
  },
  {
   "cell_type": "markdown",
   "metadata": {},
   "source": [
    "Here I have displayed the last results of the bottom 3 clubs."
   ]
  },
  {
   "cell_type": "code",
   "execution_count": 26,
   "metadata": {},
   "outputs": [
    {
     "data": {
      "text/plain": [
       "'Sheffield United  Recent Result - Sunday 9 February 2020  SHU  2 -1  BOU  Next Fixture - Saturday 22 February 2020  SHU  15:00  BHA  Visit Sheffield United Club Page'"
      ]
     },
     "execution_count": 26,
     "metadata": {},
     "output_type": "execute_result"
    }
   ],
   "source": [
    "form2[9]"
   ]
  },
  {
   "cell_type": "code",
   "execution_count": 27,
   "metadata": {},
   "outputs": [
    {
     "data": {
      "text/plain": [
       "'Tottenham Hotspur  Recent Result - Sunday 2 February 2020  TOT  2 -0  MCI  Next Fixture - Sunday 16 February 2020  AVL  14:00  TOT  Visit Tottenham Hotspur Club Page'"
      ]
     },
     "execution_count": 27,
     "metadata": {},
     "output_type": "execute_result"
    }
   ],
   "source": [
    "form2[11]"
   ]
  },
  {
   "cell_type": "markdown",
   "metadata": {},
   "source": [
    "These are the teams which are at the 5th and 6th position who have a chance to clinch champions league qualification based on their last results."
   ]
  },
  {
   "cell_type": "code",
   "execution_count": 28,
   "metadata": {},
   "outputs": [
    {
     "data": {
      "text/plain": [
       "pandas.core.frame.DataFrame"
      ]
     },
     "execution_count": 28,
     "metadata": {},
     "output_type": "execute_result"
    }
   ],
   "source": [
    "type(df)"
   ]
  },
  {
   "cell_type": "code",
   "execution_count": 29,
   "metadata": {},
   "outputs": [],
   "source": [
    "pdf3 = df.iloc[::2]"
   ]
  },
  {
   "cell_type": "markdown",
   "metadata": {},
   "source": [
    "Here I have removed the unnecessary contents in the data and made it better foe my analysis."
   ]
  },
  {
   "cell_type": "code",
   "execution_count": 30,
   "metadata": {},
   "outputs": [],
   "source": [
    "del pdf3['Next']"
   ]
  },
  {
   "cell_type": "code",
   "execution_count": 31,
   "metadata": {},
   "outputs": [],
   "source": [
    "del pdf3['Unnamed: 11']"
   ]
  },
  {
   "cell_type": "code",
   "execution_count": 32,
   "metadata": {},
   "outputs": [],
   "source": [
    "del pdf3['Unnamed: 12']"
   ]
  },
  {
   "cell_type": "code",
   "execution_count": 33,
   "metadata": {},
   "outputs": [],
   "source": [
    "del pdf3['Form']"
   ]
  },
  {
   "cell_type": "markdown",
   "metadata": {},
   "source": [
    "Here I deleted the rows which would not be needed in my analysis."
   ]
  },
  {
   "cell_type": "code",
   "execution_count": 34,
   "metadata": {},
   "outputs": [],
   "source": [
    "pdf4 = pdf3.head(20)"
   ]
  },
  {
   "cell_type": "markdown",
   "metadata": {},
   "source": [
    "I have only displayed the top 10 rows which will be required for my plots."
   ]
  },
  {
   "cell_type": "code",
   "execution_count": 35,
   "metadata": {},
   "outputs": [
    {
     "data": {
      "text/plain": [
       "Index(['Club', 'Drawn  D', 'GA', 'GD', 'GF', 'Lost  L', 'Played  Pl',\n",
       "       'Points  Pts', 'Position  Pos', 'Won  W'],\n",
       "      dtype='object')"
      ]
     },
     "execution_count": 35,
     "metadata": {},
     "output_type": "execute_result"
    }
   ],
   "source": [
    "pdf4.columns"
   ]
  },
  {
   "cell_type": "code",
   "execution_count": 36,
   "metadata": {},
   "outputs": [],
   "source": [
    "pdf4.index=range(20)"
   ]
  },
  {
   "cell_type": "code",
   "execution_count": 37,
   "metadata": {},
   "outputs": [],
   "source": [
    "pdf5 = pdf4.rename(columns={\"Drawn  D\": \"Drawn\", \"Lost  L\": \"Lost\", \"Played  Pl\": \"Played\", \"Points  Pts\":\"Points\", \"Position  Pos\":\"Position\", \"Won  W\": \"Won\"})"
   ]
  },
  {
   "cell_type": "markdown",
   "metadata": {},
   "source": [
    "Here I rename the columns to make them better for my analysis."
   ]
  },
  {
   "cell_type": "code",
   "execution_count": 38,
   "metadata": {},
   "outputs": [],
   "source": [
    "pdf5['Rank'] = (1,2,3,4,5,6,7,8,9,10,11,12,13,14,15,16,17,18,19,20)"
   ]
  },
  {
   "cell_type": "markdown",
   "metadata": {},
   "source": [
    "I inserted a new column - 'Rank' which will be needed for my analysis."
   ]
  },
  {
   "cell_type": "code",
   "execution_count": 39,
   "metadata": {},
   "outputs": [
    {
     "data": {
      "text/html": [
       "<div>\n",
       "<style scoped>\n",
       "    .dataframe tbody tr th:only-of-type {\n",
       "        vertical-align: middle;\n",
       "    }\n",
       "\n",
       "    .dataframe tbody tr th {\n",
       "        vertical-align: top;\n",
       "    }\n",
       "\n",
       "    .dataframe thead th {\n",
       "        text-align: right;\n",
       "    }\n",
       "</style>\n",
       "<table border=\"1\" class=\"dataframe\">\n",
       "  <thead>\n",
       "    <tr style=\"text-align: right;\">\n",
       "      <th></th>\n",
       "      <th>Club</th>\n",
       "      <th>Drawn</th>\n",
       "      <th>GA</th>\n",
       "      <th>GD</th>\n",
       "      <th>GF</th>\n",
       "      <th>Lost</th>\n",
       "      <th>Played</th>\n",
       "      <th>Points</th>\n",
       "      <th>Position</th>\n",
       "      <th>Won</th>\n",
       "      <th>Rank</th>\n",
       "    </tr>\n",
       "  </thead>\n",
       "  <tbody>\n",
       "    <tr>\n",
       "      <th>0</th>\n",
       "      <td>LiverpoolLIV</td>\n",
       "      <td>1</td>\n",
       "      <td>15</td>\n",
       "      <td>+45</td>\n",
       "      <td>60</td>\n",
       "      <td>0</td>\n",
       "      <td>25</td>\n",
       "      <td>73</td>\n",
       "      <td>1  Previous Position  1</td>\n",
       "      <td>24</td>\n",
       "      <td>1</td>\n",
       "    </tr>\n",
       "    <tr>\n",
       "      <th>1</th>\n",
       "      <td>Manchester CityMCI</td>\n",
       "      <td>3</td>\n",
       "      <td>29</td>\n",
       "      <td>+36</td>\n",
       "      <td>65</td>\n",
       "      <td>6</td>\n",
       "      <td>25</td>\n",
       "      <td>51</td>\n",
       "      <td>2  Previous Position  2</td>\n",
       "      <td>16</td>\n",
       "      <td>2</td>\n",
       "    </tr>\n",
       "    <tr>\n",
       "      <th>2</th>\n",
       "      <td>Leicester CityLEI</td>\n",
       "      <td>5</td>\n",
       "      <td>26</td>\n",
       "      <td>+28</td>\n",
       "      <td>54</td>\n",
       "      <td>6</td>\n",
       "      <td>26</td>\n",
       "      <td>50</td>\n",
       "      <td>3  Previous Position  3</td>\n",
       "      <td>15</td>\n",
       "      <td>3</td>\n",
       "    </tr>\n",
       "    <tr>\n",
       "      <th>3</th>\n",
       "      <td>ChelseaCHE</td>\n",
       "      <td>5</td>\n",
       "      <td>34</td>\n",
       "      <td>+9</td>\n",
       "      <td>43</td>\n",
       "      <td>8</td>\n",
       "      <td>25</td>\n",
       "      <td>41</td>\n",
       "      <td>4  Previous Position  4</td>\n",
       "      <td>12</td>\n",
       "      <td>4</td>\n",
       "    </tr>\n",
       "    <tr>\n",
       "      <th>4</th>\n",
       "      <td>Sheffield UnitedSHU</td>\n",
       "      <td>9</td>\n",
       "      <td>24</td>\n",
       "      <td>+4</td>\n",
       "      <td>28</td>\n",
       "      <td>7</td>\n",
       "      <td>26</td>\n",
       "      <td>39</td>\n",
       "      <td>5  Previous Position  6</td>\n",
       "      <td>10</td>\n",
       "      <td>5</td>\n",
       "    </tr>\n",
       "    <tr>\n",
       "      <th>5</th>\n",
       "      <td>Tottenham HotspurTOT</td>\n",
       "      <td>7</td>\n",
       "      <td>32</td>\n",
       "      <td>+8</td>\n",
       "      <td>40</td>\n",
       "      <td>8</td>\n",
       "      <td>25</td>\n",
       "      <td>37</td>\n",
       "      <td>6  Previous Position  5</td>\n",
       "      <td>10</td>\n",
       "      <td>6</td>\n",
       "    </tr>\n",
       "    <tr>\n",
       "      <th>6</th>\n",
       "      <td>Wolverhampton WanderersWOL</td>\n",
       "      <td>12</td>\n",
       "      <td>32</td>\n",
       "      <td>+3</td>\n",
       "      <td>35</td>\n",
       "      <td>6</td>\n",
       "      <td>26</td>\n",
       "      <td>36</td>\n",
       "      <td>7  Previous Position  8</td>\n",
       "      <td>8</td>\n",
       "      <td>7</td>\n",
       "    </tr>\n",
       "    <tr>\n",
       "      <th>7</th>\n",
       "      <td>EvertonEVE</td>\n",
       "      <td>6</td>\n",
       "      <td>38</td>\n",
       "      <td>-4</td>\n",
       "      <td>34</td>\n",
       "      <td>10</td>\n",
       "      <td>26</td>\n",
       "      <td>36</td>\n",
       "      <td>8  Previous Position  9</td>\n",
       "      <td>10</td>\n",
       "      <td>8</td>\n",
       "    </tr>\n",
       "    <tr>\n",
       "      <th>8</th>\n",
       "      <td>Manchester UnitedMUN</td>\n",
       "      <td>8</td>\n",
       "      <td>29</td>\n",
       "      <td>+7</td>\n",
       "      <td>36</td>\n",
       "      <td>8</td>\n",
       "      <td>25</td>\n",
       "      <td>35</td>\n",
       "      <td>9  Previous Position  7</td>\n",
       "      <td>9</td>\n",
       "      <td>9</td>\n",
       "    </tr>\n",
       "    <tr>\n",
       "      <th>9</th>\n",
       "      <td>ArsenalARS</td>\n",
       "      <td>13</td>\n",
       "      <td>34</td>\n",
       "      <td>-2</td>\n",
       "      <td>32</td>\n",
       "      <td>6</td>\n",
       "      <td>25</td>\n",
       "      <td>31</td>\n",
       "      <td>10  Previous Position  10</td>\n",
       "      <td>6</td>\n",
       "      <td>10</td>\n",
       "    </tr>\n",
       "    <tr>\n",
       "      <th>10</th>\n",
       "      <td>BurnleyBUR</td>\n",
       "      <td>4</td>\n",
       "      <td>38</td>\n",
       "      <td>-10</td>\n",
       "      <td>28</td>\n",
       "      <td>12</td>\n",
       "      <td>25</td>\n",
       "      <td>31</td>\n",
       "      <td>11  Previous Position  11</td>\n",
       "      <td>9</td>\n",
       "      <td>11</td>\n",
       "    </tr>\n",
       "    <tr>\n",
       "      <th>11</th>\n",
       "      <td>Newcastle UnitedNEW</td>\n",
       "      <td>7</td>\n",
       "      <td>36</td>\n",
       "      <td>-12</td>\n",
       "      <td>24</td>\n",
       "      <td>10</td>\n",
       "      <td>25</td>\n",
       "      <td>31</td>\n",
       "      <td>12  Previous Position  12</td>\n",
       "      <td>8</td>\n",
       "      <td>12</td>\n",
       "    </tr>\n",
       "    <tr>\n",
       "      <th>12</th>\n",
       "      <td>SouthamptonSOU</td>\n",
       "      <td>4</td>\n",
       "      <td>46</td>\n",
       "      <td>-15</td>\n",
       "      <td>31</td>\n",
       "      <td>12</td>\n",
       "      <td>25</td>\n",
       "      <td>31</td>\n",
       "      <td>13  Previous Position  13</td>\n",
       "      <td>9</td>\n",
       "      <td>13</td>\n",
       "    </tr>\n",
       "    <tr>\n",
       "      <th>13</th>\n",
       "      <td>Crystal PalaceCRY</td>\n",
       "      <td>9</td>\n",
       "      <td>32</td>\n",
       "      <td>-9</td>\n",
       "      <td>23</td>\n",
       "      <td>10</td>\n",
       "      <td>26</td>\n",
       "      <td>30</td>\n",
       "      <td>14  Previous Position  14</td>\n",
       "      <td>7</td>\n",
       "      <td>14</td>\n",
       "    </tr>\n",
       "    <tr>\n",
       "      <th>14</th>\n",
       "      <td>Brighton and Hove AlbionBHA</td>\n",
       "      <td>9</td>\n",
       "      <td>38</td>\n",
       "      <td>-7</td>\n",
       "      <td>31</td>\n",
       "      <td>11</td>\n",
       "      <td>26</td>\n",
       "      <td>27</td>\n",
       "      <td>15  Previous Position  15</td>\n",
       "      <td>6</td>\n",
       "      <td>15</td>\n",
       "    </tr>\n",
       "    <tr>\n",
       "      <th>15</th>\n",
       "      <td>BournemouthBOU</td>\n",
       "      <td>5</td>\n",
       "      <td>40</td>\n",
       "      <td>-14</td>\n",
       "      <td>26</td>\n",
       "      <td>14</td>\n",
       "      <td>26</td>\n",
       "      <td>26</td>\n",
       "      <td>16  Previous Position  16</td>\n",
       "      <td>7</td>\n",
       "      <td>16</td>\n",
       "    </tr>\n",
       "    <tr>\n",
       "      <th>16</th>\n",
       "      <td>Aston VillaAVL</td>\n",
       "      <td>4</td>\n",
       "      <td>47</td>\n",
       "      <td>-15</td>\n",
       "      <td>32</td>\n",
       "      <td>14</td>\n",
       "      <td>25</td>\n",
       "      <td>25</td>\n",
       "      <td>17  Previous Position  17</td>\n",
       "      <td>7</td>\n",
       "      <td>17</td>\n",
       "    </tr>\n",
       "    <tr>\n",
       "      <th>17</th>\n",
       "      <td>West Ham UnitedWHU</td>\n",
       "      <td>6</td>\n",
       "      <td>43</td>\n",
       "      <td>-13</td>\n",
       "      <td>30</td>\n",
       "      <td>13</td>\n",
       "      <td>25</td>\n",
       "      <td>24</td>\n",
       "      <td>18  Previous Position  18</td>\n",
       "      <td>6</td>\n",
       "      <td>18</td>\n",
       "    </tr>\n",
       "    <tr>\n",
       "      <th>18</th>\n",
       "      <td>WatfordWAT</td>\n",
       "      <td>9</td>\n",
       "      <td>40</td>\n",
       "      <td>-16</td>\n",
       "      <td>24</td>\n",
       "      <td>12</td>\n",
       "      <td>26</td>\n",
       "      <td>24</td>\n",
       "      <td>19  Previous Position  19</td>\n",
       "      <td>5</td>\n",
       "      <td>19</td>\n",
       "    </tr>\n",
       "    <tr>\n",
       "      <th>19</th>\n",
       "      <td>Norwich CityNOR</td>\n",
       "      <td>6</td>\n",
       "      <td>47</td>\n",
       "      <td>-23</td>\n",
       "      <td>24</td>\n",
       "      <td>15</td>\n",
       "      <td>25</td>\n",
       "      <td>18</td>\n",
       "      <td>20  Previous Position  20</td>\n",
       "      <td>4</td>\n",
       "      <td>20</td>\n",
       "    </tr>\n",
       "  </tbody>\n",
       "</table>\n",
       "</div>"
      ],
      "text/plain": [
       "                           Club Drawn  GA   GD  GF Lost Played Points  \\\n",
       "0                  LiverpoolLIV     1  15  +45  60    0     25     73   \n",
       "1            Manchester CityMCI     3  29  +36  65    6     25     51   \n",
       "2             Leicester CityLEI     5  26  +28  54    6     26     50   \n",
       "3                    ChelseaCHE     5  34   +9  43    8     25     41   \n",
       "4           Sheffield UnitedSHU     9  24   +4  28    7     26     39   \n",
       "5          Tottenham HotspurTOT     7  32   +8  40    8     25     37   \n",
       "6    Wolverhampton WanderersWOL    12  32   +3  35    6     26     36   \n",
       "7                    EvertonEVE     6  38   -4  34   10     26     36   \n",
       "8          Manchester UnitedMUN     8  29   +7  36    8     25     35   \n",
       "9                    ArsenalARS    13  34   -2  32    6     25     31   \n",
       "10                   BurnleyBUR     4  38  -10  28   12     25     31   \n",
       "11          Newcastle UnitedNEW     7  36  -12  24   10     25     31   \n",
       "12               SouthamptonSOU     4  46  -15  31   12     25     31   \n",
       "13            Crystal PalaceCRY     9  32   -9  23   10     26     30   \n",
       "14  Brighton and Hove AlbionBHA     9  38   -7  31   11     26     27   \n",
       "15               BournemouthBOU     5  40  -14  26   14     26     26   \n",
       "16               Aston VillaAVL     4  47  -15  32   14     25     25   \n",
       "17           West Ham UnitedWHU     6  43  -13  30   13     25     24   \n",
       "18                   WatfordWAT     9  40  -16  24   12     26     24   \n",
       "19              Norwich CityNOR     6  47  -23  24   15     25     18   \n",
       "\n",
       "                     Position Won  Rank  \n",
       "0     1  Previous Position  1  24     1  \n",
       "1     2  Previous Position  2  16     2  \n",
       "2     3  Previous Position  3  15     3  \n",
       "3     4  Previous Position  4  12     4  \n",
       "4     5  Previous Position  6  10     5  \n",
       "5     6  Previous Position  5  10     6  \n",
       "6     7  Previous Position  8   8     7  \n",
       "7     8  Previous Position  9  10     8  \n",
       "8     9  Previous Position  7   9     9  \n",
       "9   10  Previous Position  10   6    10  \n",
       "10  11  Previous Position  11   9    11  \n",
       "11  12  Previous Position  12   8    12  \n",
       "12  13  Previous Position  13   9    13  \n",
       "13  14  Previous Position  14   7    14  \n",
       "14  15  Previous Position  15   6    15  \n",
       "15  16  Previous Position  16   7    16  \n",
       "16  17  Previous Position  17   7    17  \n",
       "17  18  Previous Position  18   6    18  \n",
       "18  19  Previous Position  19   5    19  \n",
       "19  20  Previous Position  20   4    20  "
      ]
     },
     "execution_count": 39,
     "metadata": {},
     "output_type": "execute_result"
    }
   ],
   "source": [
    "pdf5"
   ]
  },
  {
   "cell_type": "markdown",
   "metadata": {},
   "source": [
    "Here I have displayed the final table which I extracted from the website. I cleaned the data and created new columns as well as arranged the extracted data in order to get a clean table without any NaN or missing or misplaced values."
   ]
  },
  {
   "cell_type": "markdown",
   "metadata": {},
   "source": [
    "# Plots"
   ]
  },
  {
   "cell_type": "markdown",
   "metadata": {},
   "source": [
    "### 1. Barplot"
   ]
  },
  {
   "cell_type": "code",
   "execution_count": 40,
   "metadata": {},
   "outputs": [],
   "source": [
    "ax = pdf5['Club']\n",
    "bx = pdf5['Points']\n",
    "bz = [int(i) for i in bx]"
   ]
  },
  {
   "cell_type": "code",
   "execution_count": 41,
   "metadata": {
    "scrolled": false
   },
   "outputs": [
    {
     "data": {
      "image/png": "[encoded data removed]",
      "text/plain": [
       "<Figure size 432x288 with 1 Axes>"
      ]
     },
     "metadata": {
      "needs_background": "light"
     },
     "output_type": "display_data"
    }
   ],
   "source": [
    "plt.barh(ax, bz)\n",
    "plt.xlabel('Points Scored')\n",
    "plt.ylabel('Team Name')\n",
    "plt.show()"
   ]
  },
  {
   "cell_type": "markdown",
   "metadata": {},
   "source": [
    "Here I have displayed a plot which shows the number of points accumulated by every team till this point of the season. As we can see, Liverpool have accumulated the highest number of points."
   ]
  },
  {
   "cell_type": "markdown",
   "metadata": {},
   "source": [
    "### 2. ScatterPlot"
   ]
  },
  {
   "cell_type": "code",
   "execution_count": 42,
   "metadata": {},
   "outputs": [],
   "source": [
    "GFx = [int(i) for i in pdf5['GF']]\n",
    "GAx = [int(i) for i in pdf5['GA']]"
   ]
  },
  {
   "cell_type": "code",
   "execution_count": 43,
   "metadata": {
    "scrolled": true
   },
   "outputs": [
    {
     "data": {
      "image/png": "[encoded data removed]",
      "text/plain": [
       "<Figure size 432x288 with 1 Axes>"
      ]
     },
     "metadata": {
      "needs_background": "light"
     },
     "output_type": "display_data"
    }
   ],
   "source": [
    "plt.scatter(GFx,GAx)\n",
    "plt.show()"
   ]
  },
  {
   "cell_type": "markdown",
   "metadata": {},
   "source": [
    "Here I have displayed a scatter plot which shows the number of goals conceded vs the number of goals scored. As we can see most of the teams in the top half of the table have scored more goals and conceaded less number of goals."
   ]
  },
  {
   "cell_type": "code",
   "execution_count": 44,
   "metadata": {},
   "outputs": [],
   "source": [
    "Win_list = pdf5[\"Won\"].tolist() \n",
    "Loss_list = pdf5[\"Lost\"].tolist() \n",
    "Draw_list = pdf5['Drawn'].tolist()\n",
    "Rank_L = pdf5['Rank'].tolist()"
   ]
  },
  {
   "cell_type": "code",
   "execution_count": 45,
   "metadata": {},
   "outputs": [],
   "source": [
    "test_list1 = [int(i) for i in Win_list]\n",
    "test_list2 = [int(i) for i in Loss_list]\n",
    "test_list4 = [int(i) for i in Rank_L]\n",
    "test_list3 = [int(i) for i in Draw_list]"
   ]
  },
  {
   "cell_type": "markdown",
   "metadata": {},
   "source": [
    "I have converted the string rows into integers for better plots."
   ]
  },
  {
   "cell_type": "markdown",
   "metadata": {},
   "source": [
    "### 3. Histogram"
   ]
  },
  {
   "cell_type": "code",
   "execution_count": 46,
   "metadata": {},
   "outputs": [],
   "source": [
    "Wins = test_list1\n",
    "Defeats = test_list2\n",
    "Draws = test_list3"
   ]
  },
  {
   "cell_type": "code",
   "execution_count": 47,
   "metadata": {},
   "outputs": [],
   "source": [
    "W1 = np.asarray(Wins)\n",
    "D1 = np.asarray(Defeats)"
   ]
  },
  {
   "cell_type": "code",
   "execution_count": 48,
   "metadata": {
    "scrolled": true
   },
   "outputs": [
    {
     "data": {
      "image/png": "[encoded data removed]",
      "text/plain": [
       "<Figure size 432x288 with 1 Axes>"
      ]
     },
     "metadata": {
      "needs_background": "light"
     },
     "output_type": "display_data"
    }
   ],
   "source": [
    "legend = ['Wins', 'Defeats']\n",
    "plt.hist([W1, D1], color=['green','Red'])\n",
    "plt.xlabel(\"Wins/Defeats\")\n",
    "plt.ylabel(\"Frequency\")\n",
    "plt.legend(legend)\n",
    "plt.title('Wins and Defeats in the season')\n",
    "plt.show()"
   ]
  },
  {
   "cell_type": "markdown",
   "metadata": {},
   "source": [
    "Here I have displayed a plot which shows the number of wins and defeats faced by each team this season."
   ]
  },
  {
   "cell_type": "markdown",
   "metadata": {},
   "source": [
    "### 4. Plot"
   ]
  },
  {
   "cell_type": "code",
   "execution_count": 49,
   "metadata": {
    "scrolled": true
   },
   "outputs": [
    {
     "data": {
      "image/png": "[encoded data removed]",
      "text/plain": [
       "<Figure size 432x288 with 1 Axes>"
      ]
     },
     "metadata": {
      "needs_background": "light"
     },
     "output_type": "display_data"
    },
    {
     "data": {
      "text/plain": [
       "<Figure size 1800x1800 with 0 Axes>"
      ]
     },
     "metadata": {},
     "output_type": "display_data"
    }
   ],
   "source": [
    "import numpy as np\n",
    "\n",
    "Rank = test_list4\n",
    "bars = np.add(Wins, Draws).tolist()\n",
    "\n",
    "\n",
    "plt.bar(Rank, Wins, color='#7f6d5f', edgecolor='white')\n",
    "# Create green bars (middle), on top of the firs ones\n",
    "plt.bar(Rank, Draws, bottom=Wins, color='#557f2d', edgecolor='white')\n",
    "# Create green bars (top)\n",
    "plt.bar(Rank, Defeats, bottom=bars, color='#2d7f5e', edgecolor='white')\n",
    "\n",
    "plt.xlabel('Position of finish - rank')  \n",
    "plt.ylabel('Number of wins, draws and defeats')\n",
    "plt.figure(figsize = (25,25))\n",
    "\n",
    "plt.show()  "
   ]
  },
  {
   "cell_type": "markdown",
   "metadata": {},
   "source": [
    "Here I have displayed a plot which shows the number of matches won, lost and draws by each team according to the rank of the team. As you can see the team with most wins is the leftmost of the x axis and the team at the bottom of the table is the rightmost."
   ]
  },
  {
   "cell_type": "markdown",
   "metadata": {},
   "source": [
    "### 5. Line Plot"
   ]
  },
  {
   "cell_type": "code",
   "execution_count": 50,
   "metadata": {},
   "outputs": [
    {
     "data": {
      "text/plain": [
       "[<matplotlib.lines.Line2D at 0x1ca44ebc9b0>]"
      ]
     },
     "execution_count": 50,
     "metadata": {},
     "output_type": "execute_result"
    },
    {
     "data": {
      "image/png": "[encoded data removed]",
      "text/plain": [
       "<Figure size 432x288 with 1 Axes>"
      ]
     },
     "metadata": {
      "needs_background": "light"
     },
     "output_type": "display_data"
    }
   ],
   "source": [
    "plt.plot(Rank,Wins)"
   ]
  },
  {
   "cell_type": "markdown",
   "metadata": {},
   "source": [
    "Here I have shown a line plot. It has the number of wins on the Y axis and the position of the club in the league on the X axis."
   ]
  },
  {
   "cell_type": "markdown",
   "metadata": {},
   "source": [
    "### 6. BoxPlot"
   ]
  },
  {
   "cell_type": "code",
   "execution_count": 51,
   "metadata": {},
   "outputs": [
    {
     "data": {
      "image/png": "[encoded data removed]",
      "text/plain": [
       "<Figure size 648x432 with 1 Axes>"
      ]
     },
     "metadata": {
      "needs_background": "light"
     },
     "output_type": "display_data"
    }
   ],
   "source": [
    "fig = plt.figure(1, figsize=(9, 6))\n",
    "\n",
    "# Create an axes instance\n",
    "axw = fig.add_subplot(111)\n",
    "\n",
    "# Create the boxplot\n",
    "bpw = axw.boxplot(Draws)"
   ]
  },
  {
   "cell_type": "markdown",
   "metadata": {},
   "source": [
    "Here I have shown a BoxPlot on the number of Draws that each team has had. As we can see, the mean of draws is 6 and the highest number of draws that any team has had are 13 and the lowest being 1. Most of the teams have drawn around 5 to 9 matches. "
   ]
  },
  {
   "cell_type": "markdown",
   "metadata": {},
   "source": [
    "### Findings"
   ]
  },
  {
   "cell_type": "markdown",
   "metadata": {},
   "source": [
    "According to my analysis,\n",
    "\n",
    "\n",
    "1. Liverpool is at the top of the league and may win the league as they have won 24 of the 25 matches played this season and drawn 1 with no defeats. Also they are in good form having won 5 of their last games.\n",
    "\n",
    "\n",
    "2. In order to finish in the top half of the table a team should have less goals conceded and more goals scored.\n",
    "\n",
    "\n",
    "3. The top four teams at this point of the season are Liverpool, Manchester City, Leicester City and Chelsea which have a higher chance of qualifying for the champions league if they maintain their record. Sheffield United and Tottenham Hotspur have a chance to cling the 3rd and 4th spots from Leicester City and Chelsea if they keep up their good form having won 2 consecutive games.\n",
    "\n",
    "\n",
    "4. West Ham, Watford and Norwich are likely to be relegated this season but West ham have not won any of their last 5 games hence there is a greater threat of relegation to them than the other teams. Also Crystal Palace have lost their last 3 games which puts them in a bad form and they may replace either Norwich or Watford in the relegation zone if it continues."
   ]
  },
  {
   "cell_type": "markdown",
   "metadata": {},
   "source": [
    "### Recommendations"
   ]
  },
  {
   "cell_type": "markdown",
   "metadata": {},
   "source": [
    "1. For a team to finish in the top half of the table, they should score more goals and concede less.\n",
    "\n",
    "\n",
    "2. Liverpool need to maintain their form if they want to win the league this season but the second team in the league after them has a deficit of nearly 20 points with 13 matches to go and are not in great form hence we can say they have effectively won the league.\n",
    "\n",
    "\n",
    "3. West Ham are going to be relegated this season unless they can find ways to improve their form.\n",
    "\n",
    "\n",
    "4. The clubs looking to secure champions leaguespots still have a lot to play for since none ofthe teams are in great form and even the point difference is not much."
   ]
  }
 ],
 "metadata": {
  "kernelspec": {
   "display_name": "Python 3",
   "language": "python",
   "name": "python3"
  },
  "language_info": {
   "codemirror_mode": {
    "name": "ipython",
    "version": 3
   },
   "file_extension": ".py",
   "mimetype": "text/x-python",
   "name": "python",
   "nbconvert_exporter": "python",
   "pygments_lexer": "ipython3",
   "version": "3.7.3"
  }
 },
 "nbformat": 4,
 "nbformat_minor": 2
}
